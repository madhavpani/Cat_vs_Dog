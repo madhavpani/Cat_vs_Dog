{
 "cells": [
  {
   "cell_type": "markdown",
   "id": "7a5ba21a-4a7b-4d00-9118-bfddf2ddea6e",
   "metadata": {},
   "source": [
    "# Xception Network"
   ]
  },
  {
   "cell_type": "markdown",
   "id": "6403a2b2-71b5-4484-bcfc-22c91f05c53c",
   "metadata": {},
   "source": [
    "#### Setup"
   ]
  },
  {
   "cell_type": "code",
   "execution_count": 1,
   "id": "5ac30e56-0b51-4d31-a08a-de8ca338c207",
   "metadata": {},
   "outputs": [
    {
     "name": "stdout",
     "output_type": "stream",
     "text": [
      "WARNING:tensorflow:From C:\\Users\\Madhavz\\anaconda3\\Lib\\site-packages\\keras\\src\\losses.py:2976: The name tf.losses.sparse_softmax_cross_entropy is deprecated. Please use tf.compat.v1.losses.sparse_softmax_cross_entropy instead.\n",
      "\n"
     ]
    }
   ],
   "source": [
    "import tensorflow as tf\n",
    "from tensorflow import keras"
   ]
  },
  {
   "cell_type": "markdown",
   "id": "c2e1e2b9-ac78-40db-8f1e-a4d9e3e539ba",
   "metadata": {},
   "source": [
    "#### Entry flow"
   ]
  },
  {
   "cell_type": "code",
   "execution_count": 46,
   "id": "75935e20-e09e-4450-8822-9bdf08f59ef8",
   "metadata": {},
   "outputs": [],
   "source": [
    "def entry_flow(inputs):\n",
    "    \n",
    "    x = keras.layers.Conv2D(32, 3, strides=2, padding='same')(inputs)\n",
    "    x = keras.layers.BatchNormalization()(x)\n",
    "    x = keras.layers.Activation('relu')(x)\n",
    "\n",
    "    x = keras.layers.Conv2D(64, 3, padding='same')(x)\n",
    "    x = keras.layers.BatchNormalization()(x)\n",
    "    x = keras.layers.Activation('relu')(x)\n",
    "\n",
    "    previous_block_activation = x\n",
    "\n",
    "    for size in [128, 256, 728]:\n",
    "\n",
    "        x = keras.layers.Activation('relu')(x)\n",
    "        x = keras.layers.SeparableConv2D(size, 3, padding='same')(x)\n",
    "        x = keras.layers.BatchNormalization()(x)\n",
    "\n",
    "        x = keras.layers.Activation('relu')(x)\n",
    "        x = keras.layers.SeparableConv2D(size, 3, padding='same')(x)\n",
    "        x = keras.layers.BatchNormalization()(x)\n",
    "\n",
    "        x = keras.layers.MaxPooling2D(3, strides=2, padding='same')(x)\n",
    "\n",
    "        residual = keras.layers.Conv2D(size, 1, strides=2, padding='same')(previous_block_activation)\n",
    "\n",
    "        x = keras.layers.Add([x, residual])\n",
    "        previous_block_activation = x\n",
    "\n",
    "    return x"
   ]
  },
  {
   "cell_type": "markdown",
   "id": "028435e3-cd69-4564-936a-8abc7ef9cfca",
   "metadata": {},
   "source": [
    "#### Middle Flow"
   ]
  },
  {
   "cell_type": "code",
   "execution_count": 48,
   "id": "531f01a8-ea76-4238-a54a-a5d3eaf0d6f5",
   "metadata": {},
   "outputs": [],
   "source": [
    "def middle_flow(x, num_blocks=8):\n",
    "\n",
    "    previous_block_activation = x\n",
    "\n",
    "    for _ in range(num_blocks):\n",
    "\n",
    "        x = keras.layers.Activation('relu')(x)\n",
    "        x = keras.layers.SeparableConv2D(728, 3, padding='same')(x)\n",
    "        x = keras.layers.BatchNormalization()(x)\n",
    "\n",
    "        x = keras.layers.Activation('relu')(x)\n",
    "        x = keras.layers.SeparableConv2D(728, 3, padding='same')(x)\n",
    "        x = keras.layers.BatchNormalization()(x)\n",
    "\n",
    "        x = keras.layers.Activation('relu')(x)\n",
    "        x = keras.layers.SeparableConv2D(728, 3, padding='same')(x)\n",
    "        x = keras.layers.BatchNormalization()(x)\n",
    "\n",
    "        x = keras.layers.Add([x, previous_block_activation])\n",
    "        previous_block_activation = x\n",
    "\n",
    "    return x"
   ]
  },
  {
   "cell_type": "markdown",
   "id": "a2d3bf38-8d46-4750-a234-461eeb59494a",
   "metadata": {},
   "source": [
    "#### Exit Flow"
   ]
  },
  {
   "cell_type": "code",
   "execution_count": 50,
   "id": "06b9253b-b155-489d-803d-72c01422e5c3",
   "metadata": {},
   "outputs": [],
   "source": [
    "def exit_flow(x):\n",
    "\n",
    "    previous_block_activation = x\n",
    "\n",
    "    x = keras.layers.Activation('relu')(x)\n",
    "    x = keras.layers.SeparableConv2D(728, 3, padding='same')(x)\n",
    "    x = keras.layers.BatchNormalization()(x)\n",
    "\n",
    "    x = keras.layers.Activation('relu')(x)\n",
    "    x = keras.layers.SeparableConv2D(1024, 3, padding='same')(x)\n",
    "    x = keras.layers.BatchNormalization()(x)\n",
    "\n",
    "    x = keras.layers.MaxPooling2D(3, strides=2, padding='same')(x)\n",
    "\n",
    "    residual = keras.layers.Conv2D(1024, 1, strides=2, padding='same')(previous_block_activation)\n",
    "    x = keras.layers.Add([x, residual])\n",
    "\n",
    "    x = keras.layers.Activation('relu')(x)\n",
    "    x = keras.layers.SeparableConv2D(728, 3, padding='same')(x)\n",
    "    x = keras.layers.BatchNormalization()(x)\n",
    "\n",
    "    x = keras.layers.Activation('relu')(x)\n",
    "    x = keras.layers.SeparableConv2D(1024, 3, padding='same')(x)\n",
    "    x = keras.layers.BatchNormalization()(x)\n",
    "\n",
    "    x = keras.layers.GlobalAveragePooling2D()(x)\n",
    "    x = keras.layers.Dense(1, activation='linear')(x)\n",
    "\n",
    "    return x"
   ]
  },
  {
   "cell_type": "code",
   "execution_count": 36,
   "id": "5947235a-d641-4e17-ae9e-b691ba6d7885",
   "metadata": {},
   "outputs": [],
   "source": [
    "inputs = keras.layers.Input(shape=(128, 128, 1))\n",
    "\n",
    "x = entry_flow(inputs)\n",
    "x = middle_flow(x)\n",
    "outputs = exit_flow(x)\n",
    "\n",
    "xception = keras.Model(inputs, outputs)"
   ]
  },
  {
   "cell_type": "code",
   "execution_count": null,
   "id": "f745f17a-b734-44e9-8299-9397640d6b2d",
   "metadata": {},
   "outputs": [],
   "source": []
  }
 ],
 "metadata": {
  "kernelspec": {
   "display_name": "Python [conda env:base] *",
   "language": "python",
   "name": "conda-base-py"
  },
  "language_info": {
   "codemirror_mode": {
    "name": "ipython",
    "version": 3
   },
   "file_extension": ".py",
   "mimetype": "text/x-python",
   "name": "python",
   "nbconvert_exporter": "python",
   "pygments_lexer": "ipython3",
   "version": "3.11.7"
  }
 },
 "nbformat": 4,
 "nbformat_minor": 5
}
